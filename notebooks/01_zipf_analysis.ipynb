{
 "cells": [
  {
   "cell_type": "markdown",
   "id": "56b3245e-982c-45e5-bc3f-72eb0797a32d",
   "metadata": {},
   "source": [
    "# Analyse de la loi de Zipf sur un corpus de Victor Hugo"
   ]
  },
  {
   "cell_type": "markdown",
   "id": "391a607d-6484-44de-bf28-5b34e191ce3a",
   "metadata": {},
   "source": [
    "## 1. Chargement du corpus"
   ]
  },
  {
   "cell_type": "markdown",
   "id": "c2fea827-2c5f-44a6-b334-94436b675768",
   "metadata": {},
   "source": [
    "### 1.1 Import des bibliothèques"
   ]
  },
  {
   "cell_type": "code",
   "execution_count": 1,
   "id": "234b6785-3227-4b49-995f-a8b93d39e30d",
   "metadata": {},
   "outputs": [
    {
     "name": "stderr",
     "output_type": "stream",
     "text": [
      "[nltk_data] Downloading package punkt to\n",
      "[nltk_data]     C:\\Users\\safar\\AppData\\Roaming\\nltk_data...\n",
      "[nltk_data]   Package punkt is already up-to-date!\n",
      "[nltk_data] Downloading package stopwords to\n",
      "[nltk_data]     C:\\Users\\safar\\AppData\\Roaming\\nltk_data...\n",
      "[nltk_data]   Package stopwords is already up-to-date!\n"
     ]
    },
    {
     "data": {
      "text/plain": [
       "True"
      ]
     },
     "execution_count": 1,
     "metadata": {},
     "output_type": "execute_result"
    }
   ],
   "source": [
    "import os\n",
    "import re\n",
    "from collections import Counter\n",
    "\n",
    "import nltk\n",
    "from nltk.corpus import stopwords\n",
    "from nltk.tokenize import word_tokenize\n",
    "\n",
    "# Je télécharge les ressources NLTK nécessaire\n",
    "nltk.download('punkt')\n",
    "nltk.download('stopwords')"
   ]
  },
  {
   "cell_type": "markdown",
   "id": "f4f8b107-5a1e-41c2-ba85-e1f92206e141",
   "metadata": {},
   "source": [
    "### 1.2 Lecture du fichier texte"
   ]
  },
  {
   "cell_type": "code",
   "execution_count": 12,
   "id": "ea4c693f-0afc-40ec-888c-f8f266c6e8b5",
   "metadata": {},
   "outputs": [
    {
     "name": "stdout",
     "output_type": "stream",
     "text": [
      "\f",
      "                    IL A ÉTÉ TIRÉ À PART\n",
      "\n",
      "\n",
      "      5 exemplaires sur papier du Japon, numérotés de 1 à 5\n",
      "     5 exemplaires sur papier de Chine, numérotés de 6 à 10\n",
      "  40 exemplaires sur papier de Hollande, numérotés de 11 à 50\n",
      "300 exemplaires sur papier vélin du Marais, numérotés de 51 à 350\n",
      "\f",
      "       VICTOR HUGO\n",
      "\n",
      "\n",
      "HISTOIRE D’UN CRIME\n",
      "TROISIÈME JOURNÉE – LE MASSACRE\n",
      "QUATRIÈME JOURNÉE – LA VICTOIRE\n",
      "    CONCLUSION — LA CHUTE\n",
      "\n",
      "\n",
      "\n",
      "            CAHIER\n",
      "\n",
      "    COMPLÉMENTAIRE\n",
      "\n",
      "       I. NOTES DE VICTOR HUGO\n",
      "\n",
      "\n",
      "\n",
      "       II. PIÈCES JUSTIFICATIVES\n",
      "\f",
      "                PARIS\n",
      "\n",
      "\n",
      "  IMPRIMÉ                     ÉDITÉ\n",
      "    PAR                        PAR\n",
      "\n",
      "L’IMPRIMERIE               LA LIBRAIRIE\n",
      " NATIONALE                 OLLENDORFF\n",
      "\n",
      "\n",
      "\n",
      "\n",
      "               MDCCCCVII\n",
      "\f",
      "\f",
      " FAC-SIMILÉ DU TITRE ÉCRIT PAR VICTOR HUGO EN\n",
      "TÊTE DU MANUSCRIT ORIGINAL DE L’HISTOIRE D’UN\n",
      "                     CRIME.\n",
      "\f",
      "            TROISIÈME JOURNÉE.\n",
      "\n",
      "                    LE MASSACRE.\n",
      "\n",
      "\n",
      "\n",
      "\n",
      "                                     I\n",
      "\n",
      " CEUX QUI DORMENT ET CELUI\n",
      "      QUI NE DORT PAS.\n",
      "\n",
      "   Dans cette nuit du 3 au 4, pendant qu’accablés de fatigue et promis aux\n",
      "catastrophes, nous dormions d’un sommeil honnête, on ne fermait pas l’œil\n",
      "à l’Élysée. L’insomnie était là, infâme. Vers deux heures du matin, le plus\n",
      "intime, après Morny, des confidents de l’Élysée, le comte Roguet, ancien\n",
      "pair de France et lieutenant général, sortait du cabinet de Louis Bonaparte ;\n",
      "\f",
      "Roguet était accompagné de Saint-Arnaud. Saint-Arnaud était, on s’en\n",
      "souvient, le ministre de la guerre de ce moment-là.\n",
      "   Deux colonels attendaient dans le petit salon de service.\n",
      "   Saint-Arnaud était un général qui avait été figurant à l’Ambigu. Il avait\n",
      "débuté par être comique à la banlieue. Tragique, plus tard. Signalement :\n",
      "haute taille, sec, mince, anguleux, moustaches grises, cheveux plats, mine\n",
      "basse. C’était un coupe-jarret, mais mal élevé. Il prononçait peuple\n",
      "souvérain. Morny en riait. Il ne prononce pas mieux le mot qu’il ne\n",
      "comprend la chose, disait-il L’Elysée, qui se piquait d’élégance, n’acceptait\n",
      "qu’à demi Saint-Arnaud. Son côté sanglant lui faisait pardonner son côté\n",
      "vulgaire. Saint-Arnaud était brave, violent et timide. Il avait l’audace du\n",
      "soudard galonné et la gaucherie de l’ancien pauvre diable. Nous le vîmes un\n",
      "jour à la tribune, blême, balbutiant, hardi. Il avait un long visage osseux et\n",
      "une mâchoire inquiétante. Son nom de théâtre était Florival. C’était un\n",
      "cabotin passé reître. Il est mort maréchal de France. Figure sinistre.\n",
      "   Les deux colonels qui attendaient Saint-Arnaud dans le salon de service\n",
      "étaient deux hommes d’expédition, chefs chacun d’un de ces régiments\n",
      "décisifs qui, dans les occasions suprêmes, entraînent les autres régiments,\n",
      "selon la consigne, dans la gloire comme à Austerlitz, ou dans le crime\n",
      "comme au Dix-huit Brumaire. Ces deux officiers faisaient partie de ce que\n",
      "Morny appelait « la crème des colonels endettés et viveurs ». Nous ne les\n",
      "nommerons pas ici ; l’un est mort, l’autre existe ; il se reconnaîtra. Du reste,\n",
      "on a pu les entrevoir dans les premières pages de ce livre.\n",
      "   L’un, homme de trente-huit ans, était retors, intrépide, ingrat ; trois\n",
      "qualités pour réussir. Le duc d’Aumale, dans l’Aurès, lui avait sauvé la vie.\n",
      "C’était alors un jeune capitaine. Une balle lui traversa le corps, il tomba\n",
      "dans les buissons, les kabyles accoururent pour lui couper et lui emporter la\n",
      "tête, le duc d’Aumale survint avec deux officiers, un soldat et un trompette,\n",
      "chargea les kabyles et sauva ce capitaine. L’ayant sauvé, il l’aima. L’un fut\n",
      "reconnaissant, l’autre pas. Le reconnaissant, ce fut le sauveur. Le duc\n",
      "d’Aumale sut gré à ce jeune capitaine de lui avoir donné l’occasion d’un\n",
      "fait d’armes. Il le fit chef d’escadron ; en 1849, ce chef d’escadron fut\n",
      "lieutenant-colonel, commanda une colonne d’assaut au siège de Rome, puis\n",
      "\f",
      "revint en Afrique, où Fleury l’embaucha en même temps que Saint-Arnaud.\n",
      "Louis Bonaparte le fit colonel en juillet 1851, et compta sur lui. En\n",
      "novembre, ce colonel de Louis Bonaparte écrivait au duc d’Aumale : « Il\n",
      "n’y a rien à attendre de ce misérable aventurier. » En décembre, il\n",
      "commandait un régiment meurtrier. Plus tard, dans la Dobrudcha, un cheval\n",
      "maltraité se fâcha et d’un coup de dent lui arracha une joue, de sorte qu’il\n",
      "n’y eut plus place sur ce visage que pour un soufflet.\n",
      "   L’autre grisonnait et avait quarante-huit ans. C’était, lui aussi, un homme\n",
      "de plaisir et de meurtre. Comme citoyen, abject ; comme soldat, vaillant. Il\n",
      "avait sauté un des premiers sur la brèche de Constantine. Beaucoup de\n",
      "bravoure et de bassesse. Aucune chevalerie, que d’industrie. Louis\n",
      "Bonaparte l’avait fait colonel en août 1851. Ses dettes avaient été payées\n",
      "deux fois par deux princes, la première fois par le duc d’Orléans, la seconde\n",
      "fois par le duc de Nemours.\n",
      "   Tels étaient ces colonels.\n",
      "   Saint-Arnaud leur parla quelque temps à voix basse.\n",
      "\n",
      "\n",
      "\n",
      "\n",
      "                                      II\n",
      "\n",
      "        L’INTÉRIEUR DU COMITÉ.\n",
      "\n",
      "   Dès l’aube, nous étions réunis dans la maison de notre collègue\n",
      "pris\n"
     ]
    }
   ],
   "source": [
    "# Je défini le chemin vers le fichier (relatif n'a pas fonctionné donc obligé absolu)\n",
    "# fichier_path = os.path.join(\"..\", \"data\", \"raw\", \"Corpus_Victor_Hugo.txt\")\n",
    "fichier_path = \"C:/code/projets_perso/zipf-law-project/data/raw/Corpus_Victor_Hugo.txt\"\n",
    "\n",
    "\n",
    "# Lecture du contenu\n",
    "with open(fichier_path, \"r\", encoding=\"utf-8\") as file:\n",
    "    texte = file.read()\n",
    "    \n",
    "# Aperçu du txt brut\n",
    "print(texte[:5000])"
   ]
  },
  {
   "cell_type": "markdown",
   "id": "7dbd5160-3c7d-4e2d-8955-5c7785adb29a",
   "metadata": {},
   "source": [
    "## 2. Prétraitement du texte"
   ]
  },
  {
   "cell_type": "markdown",
   "id": "6447fcd6-c007-46e3-bcaf-165c2453346f",
   "metadata": {},
   "source": [
    "### 2.1 Nettoyage (ponctuation, majuscules...) et Tokenisation"
   ]
  },
  {
   "cell_type": "code",
   "execution_count": 14,
   "id": "5c47ee6d-ebb4-498d-88ba-f71877b280f0",
   "metadata": {},
   "outputs": [
    {
     "name": "stdout",
     "output_type": "stream",
     "text": [
      "['tiré', 'part', 'exemplaires', 'papier', 'japon', 'numérotés', 'exemplaires', 'papier', 'chine', 'numérotés', 'exemplaires', 'papier', 'hollande', 'numérotés', 'exemplaires', 'papier', 'vélin', 'marais', 'numérotés', 'victor', 'hugo', 'histoire', 'crime', 'troisième', 'journée', 'massacre', 'quatrième', 'journée', 'victoire', 'conclusion']\n"
     ]
    }
   ],
   "source": [
    "import re\n",
    "from nltk.tokenize import TreebankWordTokenizer\n",
    "from nltk.corpus import stopwords\n",
    "\n",
    "# Nettoyage du texte : minuscules + suppression ponctuation et chiffres\n",
    "texte_nettoyé = texte.lower()\n",
    "texte_nettoyé = re.sub(r'[^a-zàâçéèêëîïôûùüÿñæœ\\s-]', ' ', texte_nettoyé)\n",
    "\n",
    "# Tokenisation\n",
    "tokenizer = TreebankWordTokenizer()\n",
    "tokens = tokenizer.tokenize(texte_nettoyé)\n",
    "\n",
    "# Chargement des stopwords français\n",
    "stop_words = set(stopwords.words('french'))\n",
    "\n",
    "# Filtrage des tokens : je retire les stopwords et les mots trop courts\n",
    "tokens_filtrés = [mot for mot in tokens if mot not in stop_words and len(mot) > 1]\n",
    "\n",
    "# Affichage des premiers mots utiles\n",
    "print(tokens_filtrés[:30])\n"
   ]
  },
  {
   "cell_type": "markdown",
   "id": "13c26089-6145-451a-94e8-92d57febc619",
   "metadata": {},
   "source": [
    "### 2.2 Stopwords et filtrage"
   ]
  },
  {
   "cell_type": "markdown",
   "id": "6e2936ee-370e-49df-840c-22a61bac3a02",
   "metadata": {},
   "source": [
    "## 3. Analyse de fréquence des mots"
   ]
  },
  {
   "cell_type": "markdown",
   "id": "7beafac2-7e6e-4d16-87f2-d2fb04ed8550",
   "metadata": {},
   "source": [
    "### 3.1 Comptage des occurrences"
   ]
  },
  {
   "cell_type": "code",
   "execution_count": 16,
   "id": "0ac397c2-ed3c-4918-b6be-9282d40ecffe",
   "metadata": {},
   "outputs": [],
   "source": [
    "from collections import Counter\n",
    "\n",
    "# Comptage de la fréquence des occurences\n",
    "compteur_mots = Counter(tokens_filtrés)\n"
   ]
  },
  {
   "cell_type": "markdown",
   "id": "9d601100-0dd4-437e-9c10-30572277ed5b",
   "metadata": {},
   "source": [
    "### 3.2 Classement des mots"
   ]
  },
  {
   "cell_type": "code",
   "execution_count": 19,
   "id": "d900387c-fe3f-4bda-878c-08513e56d16a",
   "metadata": {},
   "outputs": [
    {
     "name": "stdout",
     "output_type": "stream",
     "text": [
      "1. plus - 665 occurrences\n",
      "2. cette - 591 occurrences\n",
      "3. deux - 588 occurrences\n",
      "4. rue - 581 occurrences\n",
      "5. dit - 533 occurrences\n",
      "6. tout - 439 occurrences\n",
      "7. comme - 401 occurrences\n",
      "8. général - 393 occurrences\n",
      "9. où - 383 occurrences\n",
      "10. fait - 365 occurrences\n",
      "11. là - 339 occurrences\n",
      "12. faire - 323 occurrences\n",
      "13. tous - 311 occurrences\n",
      "14. bien - 302 occurrences\n",
      "15. coup - 297 occurrences\n"
     ]
    }
   ],
   "source": [
    "# Obtenir les n mots les plus fréquents\n",
    "mots_freq = compteur_mots.most_common(100)  # top 100\n",
    "for rang, (mot, freq) in enumerate(mots_freq[:15], start=1):\n",
    "    print(f\"{rang}. {mot} - {freq} occurrences\")"
   ]
  },
  {
   "cell_type": "markdown",
   "id": "ecd1b141-6042-4268-8de9-6b90845f63d7",
   "metadata": {},
   "source": [
    "## 4. Visualisation : loi de Zipf"
   ]
  },
  {
   "cell_type": "markdown",
   "id": "50cf8402-dc6f-48b0-bee1-2210fdda7366",
   "metadata": {},
   "source": [
    "### 4.1 Graphique log-log"
   ]
  },
  {
   "cell_type": "code",
   "execution_count": 18,
   "id": "b16750f2-d67d-4c2f-ae9f-55f91ce257b4",
   "metadata": {},
   "outputs": [
    {
     "data": {
      "image/png": "[encoded data removed]",
      "text/plain": [
       "<Figure size 800x600 with 1 Axes>"
      ]
     },
     "metadata": {},
     "output_type": "display_data"
    }
   ],
   "source": [
    "import matplotlib.pyplot as plt\n",
    "import numpy as np\n",
    "\n",
    "# Extraire les fréquences uniquement\n",
    "frequences = [freq for mot, freq in mots_freq]\n",
    "rangs = np.arange(1, len(frequences) + 1)\n",
    "\n",
    "# Tracé log-log\n",
    "plt.figure(figsize=(8, 6))\n",
    "plt.plot(rangs, frequences, marker='o', linestyle='-', color='darkblue')\n",
    "plt.xscale('log')\n",
    "plt.yscale('log')\n",
    "plt.title(\"Loi de Zipf : fréquence des mots vs rang\")\n",
    "plt.xlabel(\"Rang (log)\")\n",
    "plt.ylabel(\"Fréquence (log)\")\n",
    "plt.grid(True, which=\"both\", ls=\"--\", linewidth=0.5)\n",
    "plt.show()"
   ]
  },
  {
   "cell_type": "markdown",
   "id": "06046ce1-f1fd-4867-8551-7a00d3b0af7c",
   "metadata": {
    "jp-MarkdownHeadingCollapsed": true
   },
   "source": [
    "### 4.2 Comparaison avec la théorie"
   ]
  },
  {
   "cell_type": "markdown",
   "id": "b68f6267-a9d6-4491-be2d-be700d958004",
   "metadata": {},
   "source": [
    "## 5. Conclusions et pistes futures"
   ]
  },
  {
   "cell_type": "code",
   "execution_count": null,
   "id": "21e45baf-c774-4d9b-b7e1-f54fe5dcb576",
   "metadata": {},
   "outputs": [],
   "source": []
  },
  {
   "cell_type": "code",
   "execution_count": null,
   "id": "019493d2-c731-4ded-9242-1b02f6be4ed1",
   "metadata": {},
   "outputs": [],
   "source": []
  },
  {
   "cell_type": "code",
   "execution_count": null,
   "id": "b4bdf0e1-2ee5-41aa-899d-9d2965566f2f",
   "metadata": {},
   "outputs": [],
   "source": []
  },
  {
   "cell_type": "code",
   "execution_count": null,
   "id": "1a28afe9-9f41-40c5-b3a0-e11f52d17b5c",
   "metadata": {},
   "outputs": [],
   "source": []
  },
  {
   "cell_type": "code",
   "execution_count": null,
   "id": "38c1955c-00bd-4ed9-9b54-d6445fa5e071",
   "metadata": {},
   "outputs": [],
   "source": []
  },
  {
   "cell_type": "code",
   "execution_count": null,
   "id": "997ad396-1920-4708-a609-d1a743bf11af",
   "metadata": {},
   "outputs": [],
   "source": []
  }
 ],
 "metadata": {
  "kernelspec": {
   "display_name": "Python [conda env:base] *",
   "language": "python",
   "name": "conda-base-py"
  },
  "language_info": {
   "codemirror_mode": {
    "name": "ipython",
    "version": 3
   },
   "file_extension": ".py",
   "mimetype": "text/x-python",
   "name": "python",
   "nbconvert_exporter": "python",
   "pygments_lexer": "ipython3",
   "version": "3.12.7"
  }
 },
 "nbformat": 4,
 "nbformat_minor": 5
}
